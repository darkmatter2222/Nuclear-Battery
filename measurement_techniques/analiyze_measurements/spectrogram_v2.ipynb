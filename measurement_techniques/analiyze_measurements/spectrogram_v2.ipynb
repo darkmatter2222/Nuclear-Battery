{
  "nbformat": 4,
  "nbformat_minor": 0,
  "metadata": {
    "colab": {
      "name": "Untitled3.ipynb",
      "provenance": [],
      "collapsed_sections": []
    },
    "kernelspec": {
      "name": "python3",
      "display_name": "Python 3"
    },
    "language_info": {
      "name": "python"
    }
  },
  "cells": [
    {
      "cell_type": "code",
      "metadata": {
        "id": "LQrfanTv0HcB"
      },
      "source": [
        "import numpy as np\n",
        "import matplotlib.pyplot as plt"
      ],
      "execution_count": 19,
      "outputs": []
    },
    {
      "cell_type": "code",
      "metadata": {
        "id": "Dz1pWIVW2sdz"
      },
      "source": [
        "results = {}"
      ],
      "execution_count": 15,
      "outputs": []
    },
    {
      "cell_type": "code",
      "metadata": {
        "id": "GO_saAT60L__"
      },
      "source": [
        "results['Green'] = {'lux':0.9216,\n",
        "      'target_wavelengths':{\n",
        "        '415':{\n",
        "          'color_name':'Violet',\n",
        "          'color_intensity':0,\n",
        "        },\n",
        "        '445':{\n",
        "          'color_name':'Indigo',\n",
        "          'color_intensity':0,\n",
        "        },\n",
        "        '480':{\n",
        "          'color_name':'Blue',\n",
        "          'color_intensity':6,\n",
        "        },\n",
        "        '515':{\n",
        "          'color_name':'Cyan',\n",
        "          'color_intensity':28,\n",
        "        },\n",
        "        '555':{\n",
        "          'color_name':'Green',\n",
        "          'color_intensity':25,\n",
        "        },\n",
        "        '590':{\n",
        "          'color_name':'Yellow',\n",
        "          'color_intensity':8,\n",
        "        },\n",
        "        '630':{\n",
        "          'color_name':'Orange',\n",
        "          'color_intensity':2,\n",
        "        },\n",
        "        '680':{\n",
        "          'color_name':'Red',\n",
        "          'color_intensity':0,\n",
        "        },\n",
        "    },\n",
        "    'special_measurements':{\n",
        "      'Clear':{\n",
        "        'color_name':'Clear',\n",
        "        'color_intensity':38,\n",
        "      },\n",
        "      'NIR':{\n",
        "        'color_name':'Near-IR',\n",
        "        'color_intensity':0,\n",
        "      },\n",
        "    }\n",
        "  }"
      ],
      "execution_count": 16,
      "outputs": []
    },
    {
      "cell_type": "code",
      "metadata": {
        "id": "2KRculDg27RP"
      },
      "source": [
        "results['Ice Blue'] = {'lux':0.4032,\n",
        "      'target_wavelengths':{\n",
        "        '415':{\n",
        "          'color_name':'Violet',\n",
        "          'color_intensity':2,\n",
        "        },\n",
        "        '445':{\n",
        "          'color_name':'Indigo',\n",
        "          'color_intensity':12,\n",
        "        },\n",
        "        '480':{\n",
        "          'color_name':'Blue',\n",
        "          'color_intensity':18,\n",
        "        },\n",
        "        '515':{\n",
        "          'color_name':'Cyan',\n",
        "          'color_intensity':10,\n",
        "        },\n",
        "        '555':{\n",
        "          'color_name':'Green',\n",
        "          'color_intensity':2,\n",
        "        },\n",
        "        '590':{\n",
        "          'color_name':'Yellow',\n",
        "          'color_intensity':0,\n",
        "        },\n",
        "        '630':{\n",
        "          'color_name':'Orange',\n",
        "          'color_intensity':0,\n",
        "        },\n",
        "        '680':{\n",
        "          'color_name':'Red',\n",
        "          'color_intensity':0,\n",
        "        },\n",
        "    },\n",
        "    'special_measurements':{\n",
        "      'Clear':{\n",
        "        'color_name':'Clear',\n",
        "        'color_intensity':29,\n",
        "      },\n",
        "      'NIR':{\n",
        "        'color_name':'Near-IR',\n",
        "        'color_intensity':0,\n",
        "      },\n",
        "    }\n",
        "  }"
      ],
      "execution_count": 17,
      "outputs": []
    },
    {
      "cell_type": "code",
      "metadata": {
        "id": "1YY6s4V33KOk"
      },
      "source": [
        "results['White'] = {'lux':0.1296,\n",
        "      'target_wavelengths':{\n",
        "        '415':{\n",
        "          'color_name':'Violet',\n",
        "          'color_intensity':0,\n",
        "        },\n",
        "        '445':{\n",
        "          'color_name':'Indigo',\n",
        "          'color_intensity':2,\n",
        "        },\n",
        "        '480':{\n",
        "          'color_name':'Blue',\n",
        "          'color_intensity':2,\n",
        "        },\n",
        "        '515':{\n",
        "          'color_name':'Cyan',\n",
        "          'color_intensity':2,\n",
        "        },\n",
        "        '555':{\n",
        "          'color_name':'Green',\n",
        "          'color_intensity':5,\n",
        "        },\n",
        "        '590':{\n",
        "          'color_name':'Yellow',\n",
        "          'color_intensity':4,\n",
        "        },\n",
        "        '630':{\n",
        "          'color_name':'Orange',\n",
        "          'color_intensity':2,\n",
        "        },\n",
        "        '680':{\n",
        "          'color_name':'Red',\n",
        "          'color_intensity':0,\n",
        "        },\n",
        "    },\n",
        "    'special_measurements':{\n",
        "      'Clear':{\n",
        "        'color_name':'Clear',\n",
        "        'color_intensity':13,\n",
        "      },\n",
        "      'NIR':{\n",
        "        'color_name':'Near-IR',\n",
        "        'color_intensity':0,\n",
        "      },\n",
        "    }\n",
        "  }"
      ],
      "execution_count": 18,
      "outputs": []
    },
    {
      "cell_type": "code",
      "metadata": {
        "colab": {
          "base_uri": "https://localhost:8080/",
          "height": 404
        },
        "id": "BFMRhkYB6vMU",
        "outputId": "3d92b256-8184-4a66-d872-60539f2208a4"
      },
      "source": [
        "fig, axes = plt.subplots(nrows=1, ncols=3, figsize=(20, 6))\n",
        "\n",
        "colors = ['White', 'Green', 'Ice Blue']\n",
        "\n",
        "for i in range(3):\n",
        "  y = []\n",
        "  x = []\n",
        "  color = []\n",
        "  target_color = colors[i]\n",
        "  for wavelength in results[target_color]['target_wavelengths']:\n",
        "    x.append(wavelength)\n",
        "    y.append(results[target_color]['target_wavelengths'][wavelength]['color_intensity'])\n",
        "    color.append(results[target_color]['target_wavelengths'][wavelength]['color_name'])\n",
        "  axes[i].set_ylabel('Intensity')\n",
        "  axes[i].set_xlabel('Wavelength')\n",
        "  axes[i].set_title(f'Spectrogram of a {target_color} Tritium Vial at {results[target_color][\"lux\"]} Lux')\n",
        "  axes[i].bar(x, y, color=color)\n"
      ],
      "execution_count": 43,
      "outputs": [
        {
          "output_type": "display_data",
          "data": {
            "image/png": "[encoded data removed]",
            "text/plain": [
              "<Figure size 1440x432 with 3 Axes>"
            ]
          },
          "metadata": {
            "needs_background": "light"
          }
        }
      ]
    },
    {
      "cell_type": "code",
      "metadata": {
        "colab": {
          "base_uri": "https://localhost:8080/",
          "height": 313
        },
        "id": "5bVlMNE-2oOj",
        "outputId": "56fc35b4-410d-4d54-ed33-1e2fedc8333b"
      },
      "source": [
        "y = []\n",
        "x = []\n",
        "color = []\n",
        "target_color = 'Green'\n",
        "for wavelength in results[target_color]['target_wavelengths']:\n",
        "  x.append(wavelength)\n",
        "  y.append(results[target_color]['target_wavelengths'][wavelength]['color_intensity'])\n",
        "  color.append(results[target_color]['target_wavelengths'][wavelength]['color_name'])\n",
        "fig, ax = plt.subplots()\n",
        "ax.set_ylabel('Intensity')\n",
        "ax.set_xlabel('Wavelength')\n",
        "ax.set_title(f'Spectrogram of a {target_color} Tritium Vial at {results[target_color][\"lux\"]} Lux')\n",
        "ax.bar(x, y, color=color)"
      ],
      "execution_count": 38,
      "outputs": [
        {
          "output_type": "execute_result",
          "data": {
            "text/plain": [
              "<BarContainer object of 8 artists>"
            ]
          },
          "metadata": {},
          "execution_count": 38
        },
        {
          "output_type": "display_data",
          "data": {
            "image/png": "[encoded data removed]",
            "text/plain": [
              "<Figure size 432x288 with 1 Axes>"
            ]
          },
          "metadata": {
            "needs_background": "light"
          }
        }
      ]
    },
    {
      "cell_type": "code",
      "metadata": {
        "colab": {
          "base_uri": "https://localhost:8080/",
          "height": 313
        },
        "id": "lmkzMf1j6GU_",
        "outputId": "2f65fc8a-a473-4784-8b8e-1d3e017d677f"
      },
      "source": [
        "y = []\n",
        "x = []\n",
        "color = []\n",
        "target_color = 'White'\n",
        "for wavelength in results[target_color]['target_wavelengths']:\n",
        "  x.append(wavelength)\n",
        "  y.append(results[target_color]['target_wavelengths'][wavelength]['color_intensity'])\n",
        "  color.append(results[target_color]['target_wavelengths'][wavelength]['color_name'])\n",
        "fig, ax = plt.subplots()\n",
        "ax.set_ylabel('Intensity')\n",
        "ax.set_xlabel('Wavelength')\n",
        "ax.set_title(f'Spectrogram of a {target_color} Tritium Vial at {results[target_color][\"lux\"]} Lux')\n",
        "ax.bar(x, y, color=color)"
      ],
      "execution_count": 36,
      "outputs": [
        {
          "output_type": "execute_result",
          "data": {
            "text/plain": [
              "<BarContainer object of 8 artists>"
            ]
          },
          "metadata": {},
          "execution_count": 36
        },
        {
          "output_type": "display_data",
          "data": {
            "image/png": "[encoded data removed]",
            "text/plain": [
              "<Figure size 432x288 with 1 Axes>"
            ]
          },
          "metadata": {
            "needs_background": "light"
          }
        }
      ]
    },
    {
      "cell_type": "code",
      "metadata": {
        "colab": {
          "base_uri": "https://localhost:8080/",
          "height": 313
        },
        "id": "JkW11I9w6Gdg",
        "outputId": "78549178-9d85-426a-a5b2-e3f4fc0d5295"
      },
      "source": [
        "y = []\n",
        "x = []\n",
        "color = []\n",
        "target_color = 'Ice Blue'\n",
        "for wavelength in results[target_color]['target_wavelengths']:\n",
        "  x.append(wavelength)\n",
        "  y.append(results[target_color]['target_wavelengths'][wavelength]['color_intensity'])\n",
        "  color.append(results[target_color]['target_wavelengths'][wavelength]['color_name'])\n",
        "fig, ax = plt.subplots()\n",
        "ax.set_ylabel('Intensity')\n",
        "ax.set_xlabel('Wavelength')\n",
        "ax.set_title(f'Spectrogram of a {target_color} Tritium Vial at {results[target_color][\"lux\"]} Lux')\n",
        "ax.bar(x, y, color=color)"
      ],
      "execution_count": 37,
      "outputs": [
        {
          "output_type": "execute_result",
          "data": {
            "text/plain": [
              "<BarContainer object of 8 artists>"
            ]
          },
          "metadata": {},
          "execution_count": 37
        },
        {
          "output_type": "display_data",
          "data": {
            "image/png": "[encoded data removed]",
            "text/plain": [
              "<Figure size 432x288 with 1 Axes>"
            ]
          },
          "metadata": {
            "needs_background": "light"
          }
        }
      ]
    },
    {
      "cell_type": "code",
      "metadata": {
        "colab": {
          "base_uri": "https://localhost:8080/"
        },
        "id": "0sM1U0oW5AeQ",
        "outputId": "b4e6e5dd-463a-4165-94fa-d7aca40670db"
      },
      "source": [
        "color"
      ],
      "execution_count": 27,
      "outputs": [
        {
          "output_type": "execute_result",
          "data": {
            "text/plain": [
              "['Violet', 'Indigo', 'Blue', 'Cyan', 'Green', 'Yellow', 'Orange', 'Red']"
            ]
          },
          "metadata": {},
          "execution_count": 27
        }
      ]
    },
    {
      "cell_type": "code",
      "metadata": {
        "id": "2iIRT6_84Jwo"
      },
      "source": [
        ""
      ],
      "execution_count": null,
      "outputs": []
    }
  ]
}